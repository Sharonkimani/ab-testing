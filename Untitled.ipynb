{
 "cells": [
  {
   "cell_type": "markdown",
   "id": "bcf3f4f6",
   "metadata": {},
   "source": [
    "## Design Our Experiment\n",
    "Let's imagine we work at a e-commerce businness, and you are planning on designing a new landing page. The web developer has worked hard on a new version of the landing page with the hope that it will lead to a higher conversion rate. Currently, the conversion rate is about 16% on average throughout the year. The team is targeting an increase 3% meaning the new design will be a success if it raises the conversion rate to 19%."
   ]
  },
  {
   "cell_type": "code",
   "execution_count": 1,
   "id": "9af5bcbd",
   "metadata": {},
   "outputs": [],
   "source": [
    "import pandas as pd\n",
    "import numpy as np\n",
    "import seaborn as sns\n",
    "import matplotlib.pyplot as plt"
   ]
  },
  {
   "cell_type": "code",
   "execution_count": 2,
   "id": "eff70203",
   "metadata": {},
   "outputs": [
    {
     "data": {
      "text/html": [
       "<div>\n",
       "<style scoped>\n",
       "    .dataframe tbody tr th:only-of-type {\n",
       "        vertical-align: middle;\n",
       "    }\n",
       "\n",
       "    .dataframe tbody tr th {\n",
       "        vertical-align: top;\n",
       "    }\n",
       "\n",
       "    .dataframe thead th {\n",
       "        text-align: right;\n",
       "    }\n",
       "</style>\n",
       "<table border=\"1\" class=\"dataframe\">\n",
       "  <thead>\n",
       "    <tr style=\"text-align: right;\">\n",
       "      <th></th>\n",
       "      <th>user_id</th>\n",
       "      <th>timestamp</th>\n",
       "      <th>group</th>\n",
       "      <th>landing_page</th>\n",
       "      <th>converted</th>\n",
       "    </tr>\n",
       "  </thead>\n",
       "  <tbody>\n",
       "    <tr>\n",
       "      <th>0</th>\n",
       "      <td>851104</td>\n",
       "      <td>2017-01-21 22:11:48.556739</td>\n",
       "      <td>control</td>\n",
       "      <td>old_page</td>\n",
       "      <td>0</td>\n",
       "    </tr>\n",
       "    <tr>\n",
       "      <th>1</th>\n",
       "      <td>804228</td>\n",
       "      <td>2017-01-12 08:01:45.159739</td>\n",
       "      <td>control</td>\n",
       "      <td>old_page</td>\n",
       "      <td>0</td>\n",
       "    </tr>\n",
       "    <tr>\n",
       "      <th>2</th>\n",
       "      <td>661590</td>\n",
       "      <td>2017-01-11 16:55:06.154213</td>\n",
       "      <td>treatment</td>\n",
       "      <td>new_page</td>\n",
       "      <td>0</td>\n",
       "    </tr>\n",
       "    <tr>\n",
       "      <th>3</th>\n",
       "      <td>853541</td>\n",
       "      <td>2017-01-08 18:28:03.143765</td>\n",
       "      <td>treatment</td>\n",
       "      <td>new_page</td>\n",
       "      <td>0</td>\n",
       "    </tr>\n",
       "    <tr>\n",
       "      <th>4</th>\n",
       "      <td>864975</td>\n",
       "      <td>2017-01-21 01:52:26.210827</td>\n",
       "      <td>control</td>\n",
       "      <td>old_page</td>\n",
       "      <td>1</td>\n",
       "    </tr>\n",
       "  </tbody>\n",
       "</table>\n",
       "</div>"
      ],
      "text/plain": [
       "   user_id                   timestamp      group landing_page  converted\n",
       "0   851104  2017-01-21 22:11:48.556739    control     old_page          0\n",
       "1   804228  2017-01-12 08:01:45.159739    control     old_page          0\n",
       "2   661590  2017-01-11 16:55:06.154213  treatment     new_page          0\n",
       "3   853541  2017-01-08 18:28:03.143765  treatment     new_page          0\n",
       "4   864975  2017-01-21 01:52:26.210827    control     old_page          1"
      ]
     },
     "execution_count": 2,
     "metadata": {},
     "output_type": "execute_result"
    }
   ],
   "source": [
    "df= pd.read_csv('ab_data.csv')\n",
    "df.head()"
   ]
  },
  {
   "cell_type": "code",
   "execution_count": 3,
   "id": "f0545fd3",
   "metadata": {},
   "outputs": [
    {
     "name": "stdout",
     "output_type": "stream",
     "text": [
      "<class 'pandas.core.frame.DataFrame'>\n",
      "RangeIndex: 294478 entries, 0 to 294477\n",
      "Data columns (total 5 columns):\n",
      " #   Column        Non-Null Count   Dtype \n",
      "---  ------        --------------   ----- \n",
      " 0   user_id       294478 non-null  int64 \n",
      " 1   timestamp     294478 non-null  object\n",
      " 2   group         294478 non-null  object\n",
      " 3   landing_page  294478 non-null  object\n",
      " 4   converted     294478 non-null  int64 \n",
      "dtypes: int64(2), object(3)\n",
      "memory usage: 11.2+ MB\n"
     ]
    }
   ],
   "source": [
    "df.info()"
   ]
  },
  {
   "cell_type": "markdown",
   "id": "4cde0e0d",
   "metadata": {},
   "source": [
    "There are no missing values.The dataset has 2 numerical columns and 3 categorical columns"
   ]
  },
  {
   "cell_type": "markdown",
   "id": "4fd9fb9c",
   "metadata": {},
   "source": [
    "###### Design an experiment\n",
    "\n",
    "$H_0$:conversion rate is less than or equal to new conversion rate 16%\n",
    "\n",
    "$H_1$:conversion rate is greater than 16%"
   ]
  },
  {
   "cell_type": "code",
   "execution_count": 4,
   "id": "d7d0b135",
   "metadata": {},
   "outputs": [
    {
     "data": {
      "text/plain": [
       "treatment    147276\n",
       "control      147202\n",
       "Name: group, dtype: int64"
      ]
     },
     "execution_count": 4,
     "metadata": {},
     "output_type": "execute_result"
    }
   ],
   "source": [
    "#understand what the data is about\n",
    "df.group.value_counts()"
   ]
  },
  {
   "cell_type": "code",
   "execution_count": 7,
   "id": "84341ea7",
   "metadata": {},
   "outputs": [],
   "source": [
    "data=df.groupby('group')['group'].count()"
   ]
  },
  {
   "cell_type": "code",
   "execution_count": 8,
   "id": "77914fad",
   "metadata": {},
   "outputs": [
    {
     "data": {
      "text/plain": [
       "group\n",
       "control      147202\n",
       "treatment    147276\n",
       "Name: group, dtype: int64"
      ]
     },
     "execution_count": 8,
     "metadata": {},
     "output_type": "execute_result"
    }
   ],
   "source": [
    "data"
   ]
  },
  {
   "cell_type": "code",
   "execution_count": 11,
   "id": "060b79cf",
   "metadata": {},
   "outputs": [
    {
     "data": {
      "text/plain": [
       "<AxesSubplot:xlabel='group'>"
      ]
     },
     "execution_count": 11,
     "metadata": {},
     "output_type": "execute_result"
    },
    {
     "data": {
      "image/png": "[encoded data removed]",
      "text/plain": [
       "<Figure size 640x480 with 1 Axes>"
      ]
     },
     "metadata": {},
     "output_type": "display_data"
    }
   ],
   "source": [
    "fig,ax=plt.subplots()\n",
    "sns.set_style('darkgrid')\n",
    "sns.barplot(x=data.index, y=data.values)#visualizing the number of people per group"
   ]
  },
  {
   "cell_type": "code",
   "execution_count": 12,
   "id": "69a4533a",
   "metadata": {},
   "outputs": [
    {
     "data": {
      "text/plain": [
       "0    259241\n",
       "1     35237\n",
       "Name: converted, dtype: int64"
      ]
     },
     "execution_count": 12,
     "metadata": {},
     "output_type": "execute_result"
    }
   ],
   "source": [
    "df.converted.value_counts()"
   ]
  },
  {
   "cell_type": "markdown",
   "id": "56eccd07",
   "metadata": {},
   "source": [
    "0,false, means the user did not convert and 1,true, means the user converted\n",
    "\n",
    "more users didn't convert"
   ]
  },
  {
   "cell_type": "code",
   "execution_count": 17,
   "id": "455c7a07",
   "metadata": {},
   "outputs": [
    {
     "data": {
      "text/plain": [
       "group\n",
       "control      17723\n",
       "treatment    17514\n",
       "Name: converted, dtype: int64"
      ]
     },
     "execution_count": 17,
     "metadata": {},
     "output_type": "execute_result"
    }
   ],
   "source": [
    "m=df.groupby('group')['converted'].sum()\n",
    "m"
   ]
  },
  {
   "cell_type": "code",
   "execution_count": 16,
   "id": "80b366cd",
   "metadata": {},
   "outputs": [
    {
     "data": {
      "text/plain": [
       "<AxesSubplot:xlabel='group'>"
      ]
     },
     "execution_count": 16,
     "metadata": {},
     "output_type": "execute_result"
    },
    {
     "data": {
      "image/png": "[encoded data removed]",
      "text/plain": [
       "<Figure size 640x480 with 1 Axes>"
      ]
     },
     "metadata": {},
     "output_type": "display_data"
    }
   ],
   "source": [
    "fig,ax=plt.subplots()\n",
    "sns.set_style('darkgrid')\n",
    "sns.barplot(x=m.index, y=m.values)#visualizing the number of people that converted per group"
   ]
  },
  {
   "cell_type": "code",
   "execution_count": 22,
   "id": "566a4faa",
   "metadata": {},
   "outputs": [],
   "source": [
    "import scipy.stats as st\n",
    "import matplotlib as mpl\n",
    "from math import ceil\n",
    "import statsmodels.api as sm"
   ]
  },
  {
   "cell_type": "code",
   "execution_count": 24,
   "id": "8e6781b4",
   "metadata": {},
   "outputs": [
    {
     "data": {
      "text/plain": [
       "2514"
      ]
     },
     "execution_count": 24,
     "metadata": {},
     "output_type": "execute_result"
    }
   ],
   "source": [
    "#choose a sample\n",
    "import statsmodels.stats.api as sms\n",
    "\n",
    "effectsize=sms.proportion_effectsize(0.16,0.19)\n",
    "required_n=sms.NormalIndPower().solve_power(effect_size=effectsize,power=0.8,\n",
    "                                          alpha=0.05)\n",
    "required_n=ceil(required_n)\n",
    "required_n"
   ]
  },
  {
   "cell_type": "code",
   "execution_count": 25,
   "id": "27823213",
   "metadata": {},
   "outputs": [
    {
     "data": {
      "text/plain": [
       "3894"
      ]
     },
     "execution_count": 25,
     "metadata": {},
     "output_type": "execute_result"
    }
   ],
   "source": [
    "#checking for duplicated users\n",
    "df.duplicated(subset=['user_id']).sum()"
   ]
  },
  {
   "cell_type": "code",
   "execution_count": 31,
   "id": "535db9ad",
   "metadata": {},
   "outputs": [],
   "source": [
    "#dropping duplicated users\n",
    "df.drop_duplicates(subset=['user_id'],keep='first',inplace=True)"
   ]
  },
  {
   "cell_type": "code",
   "execution_count": 32,
   "id": "bd66f358",
   "metadata": {},
   "outputs": [
    {
     "data": {
      "text/plain": [
       "(290584, 5)"
      ]
     },
     "execution_count": 32,
     "metadata": {},
     "output_type": "execute_result"
    }
   ],
   "source": [
    "df.shape"
   ]
  },
  {
   "cell_type": "markdown",
   "id": "2afae0e5",
   "metadata": {},
   "source": [
    "# sampling"
   ]
  },
  {
   "cell_type": "code",
   "execution_count": 35,
   "id": "54c369eb",
   "metadata": {},
   "outputs": [],
   "source": [
    "#control group sample\n",
    "ctrl=df[df['group']=='control'].sample(n=required_n, random_state=42)"
   ]
  },
  {
   "cell_type": "code",
   "execution_count": 36,
   "id": "2e28eb1a",
   "metadata": {},
   "outputs": [],
   "source": [
    "treat=df[df['group']=='treatment'].sample(n=required_n, random_state=42)#treatment group"
   ]
  },
  {
   "cell_type": "code",
   "execution_count": 38,
   "id": "f4789e7c",
   "metadata": {},
   "outputs": [
    {
     "data": {
      "text/html": [
       "<div>\n",
       "<style scoped>\n",
       "    .dataframe tbody tr th:only-of-type {\n",
       "        vertical-align: middle;\n",
       "    }\n",
       "\n",
       "    .dataframe tbody tr th {\n",
       "        vertical-align: top;\n",
       "    }\n",
       "\n",
       "    .dataframe thead th {\n",
       "        text-align: right;\n",
       "    }\n",
       "</style>\n",
       "<table border=\"1\" class=\"dataframe\">\n",
       "  <thead>\n",
       "    <tr style=\"text-align: right;\">\n",
       "      <th></th>\n",
       "      <th>user_id</th>\n",
       "      <th>timestamp</th>\n",
       "      <th>group</th>\n",
       "      <th>landing_page</th>\n",
       "      <th>converted</th>\n",
       "    </tr>\n",
       "  </thead>\n",
       "  <tbody>\n",
       "    <tr>\n",
       "      <th>0</th>\n",
       "      <td>723859</td>\n",
       "      <td>2017-01-13 13:23:44.371785</td>\n",
       "      <td>control</td>\n",
       "      <td>old_page</td>\n",
       "      <td>1</td>\n",
       "    </tr>\n",
       "    <tr>\n",
       "      <th>1</th>\n",
       "      <td>729591</td>\n",
       "      <td>2017-01-03 10:26:48.735727</td>\n",
       "      <td>control</td>\n",
       "      <td>old_page</td>\n",
       "      <td>0</td>\n",
       "    </tr>\n",
       "    <tr>\n",
       "      <th>2</th>\n",
       "      <td>791807</td>\n",
       "      <td>2017-01-13 16:59:18.346932</td>\n",
       "      <td>control</td>\n",
       "      <td>old_page</td>\n",
       "      <td>0</td>\n",
       "    </tr>\n",
       "    <tr>\n",
       "      <th>3</th>\n",
       "      <td>695740</td>\n",
       "      <td>2017-01-11 16:04:38.540309</td>\n",
       "      <td>control</td>\n",
       "      <td>old_page</td>\n",
       "      <td>0</td>\n",
       "    </tr>\n",
       "    <tr>\n",
       "      <th>4</th>\n",
       "      <td>712633</td>\n",
       "      <td>2017-01-13 12:26:18.400155</td>\n",
       "      <td>control</td>\n",
       "      <td>old_page</td>\n",
       "      <td>0</td>\n",
       "    </tr>\n",
       "  </tbody>\n",
       "</table>\n",
       "</div>"
      ],
      "text/plain": [
       "   user_id                   timestamp    group landing_page  converted\n",
       "0   723859  2017-01-13 13:23:44.371785  control     old_page          1\n",
       "1   729591  2017-01-03 10:26:48.735727  control     old_page          0\n",
       "2   791807  2017-01-13 16:59:18.346932  control     old_page          0\n",
       "3   695740  2017-01-11 16:04:38.540309  control     old_page          0\n",
       "4   712633  2017-01-13 12:26:18.400155  control     old_page          0"
      ]
     },
     "execution_count": 38,
     "metadata": {},
     "output_type": "execute_result"
    }
   ],
   "source": [
    "#combined sample\n",
    "data=pd.concat([ctrl,treat],axis=0)\n",
    "data.reset_index(drop=True, inplace=True)\n",
    "data.head()"
   ]
  },
  {
   "cell_type": "code",
   "execution_count": 39,
   "id": "39a87d5a",
   "metadata": {},
   "outputs": [
    {
     "name": "stdout",
     "output_type": "stream",
     "text": [
      "<class 'pandas.core.frame.DataFrame'>\n",
      "RangeIndex: 5028 entries, 0 to 5027\n",
      "Data columns (total 5 columns):\n",
      " #   Column        Non-Null Count  Dtype \n",
      "---  ------        --------------  ----- \n",
      " 0   user_id       5028 non-null   int64 \n",
      " 1   timestamp     5028 non-null   object\n",
      " 2   group         5028 non-null   object\n",
      " 3   landing_page  5028 non-null   object\n",
      " 4   converted     5028 non-null   int64 \n",
      "dtypes: int64(2), object(3)\n",
      "memory usage: 196.5+ KB\n"
     ]
    }
   ],
   "source": [
    "data.info()"
   ]
  },
  {
   "cell_type": "code",
   "execution_count": 40,
   "id": "56f829f5",
   "metadata": {},
   "outputs": [
    {
     "data": {
      "text/plain": [
       "control      2514\n",
       "treatment    2514\n",
       "Name: group, dtype: int64"
      ]
     },
     "execution_count": 40,
     "metadata": {},
     "output_type": "execute_result"
    }
   ],
   "source": [
    "data.group.value_counts()"
   ]
  },
  {
   "cell_type": "code",
   "execution_count": 41,
   "id": "8114a321",
   "metadata": {},
   "outputs": [],
   "source": [
    "conversion_rates=data.groupby('group')['converted']"
   ]
  },
  {
   "cell_type": "code",
   "execution_count": 43,
   "id": "fc7acea6",
   "metadata": {},
   "outputs": [
    {
     "data": {
      "text/html": [
       "<style type=\"text/css\">\n",
       "</style>\n",
       "<table id=\"T_0c402\">\n",
       "  <thead>\n",
       "    <tr>\n",
       "      <th class=\"blank level0\" >&nbsp;</th>\n",
       "      <th id=\"T_0c402_level0_col0\" class=\"col_heading level0 col0\" >conversion_rate</th>\n",
       "      <th id=\"T_0c402_level0_col1\" class=\"col_heading level0 col1\" >std</th>\n",
       "      <th id=\"T_0c402_level0_col2\" class=\"col_heading level0 col2\" >se</th>\n",
       "    </tr>\n",
       "    <tr>\n",
       "      <th class=\"index_name level0\" >group</th>\n",
       "      <th class=\"blank col0\" >&nbsp;</th>\n",
       "      <th class=\"blank col1\" >&nbsp;</th>\n",
       "      <th class=\"blank col2\" >&nbsp;</th>\n",
       "    </tr>\n",
       "  </thead>\n",
       "  <tbody>\n",
       "    <tr>\n",
       "      <th id=\"T_0c402_level0_row0\" class=\"row_heading level0 row0\" >control</th>\n",
       "      <td id=\"T_0c402_row0_col0\" class=\"data row0 col0\" >0.119</td>\n",
       "      <td id=\"T_0c402_row0_col1\" class=\"data row0 col1\" >0.323</td>\n",
       "      <td id=\"T_0c402_row0_col2\" class=\"data row0 col2\" >0.006</td>\n",
       "    </tr>\n",
       "    <tr>\n",
       "      <th id=\"T_0c402_level0_row1\" class=\"row_heading level0 row1\" >treatment</th>\n",
       "      <td id=\"T_0c402_row1_col0\" class=\"data row1 col0\" >0.107</td>\n",
       "      <td id=\"T_0c402_row1_col1\" class=\"data row1 col1\" >0.310</td>\n",
       "      <td id=\"T_0c402_row1_col2\" class=\"data row1 col2\" >0.006</td>\n",
       "    </tr>\n",
       "  </tbody>\n",
       "</table>\n"
      ],
      "text/plain": [
       "<pandas.io.formats.style.Styler at 0x1bcae8273a0>"
      ]
     },
     "execution_count": 43,
     "metadata": {},
     "output_type": "execute_result"
    }
   ],
   "source": [
    "std=lambda x: np.std(x,ddof=0)#standard deviation\n",
    "se=lambda x: st.sem(x,ddof=0)#standard error\n",
    "conversion_rates=conversion_rates.agg([np.mean,std,se])\n",
    "conversion_rates.columns=['conversion_rate','std','se']\n",
    "conversion_rates.style.format('{:.3f}')"
   ]
  },
  {
   "cell_type": "markdown",
   "id": "955090be",
   "metadata": {},
   "source": [
    "The control group has a higher conversion rate of 11.9% but the two groups performed fairly the same."
   ]
  },
  {
   "cell_type": "code",
   "execution_count": 44,
   "id": "cd5c1ee7",
   "metadata": {},
   "outputs": [],
   "source": [
    "#testing the hypothesis\n",
    "from statsmodels.stats.proportion import proportions_ztest, proportion_confint"
   ]
  },
  {
   "cell_type": "code",
   "execution_count": 45,
   "id": "5dfe40af",
   "metadata": {},
   "outputs": [],
   "source": [
    "ctrl=data[data.group=='control']['converted']"
   ]
  },
  {
   "cell_type": "code",
   "execution_count": 46,
   "id": "95546a17",
   "metadata": {},
   "outputs": [],
   "source": [
    "treat=data[data.group=='treatment']['converted']"
   ]
  },
  {
   "cell_type": "code",
   "execution_count": 48,
   "id": "2aa1a7c2",
   "metadata": {},
   "outputs": [],
   "source": [
    "no_ctrl=ctrl.count()\n",
    "no_treat=treat.count()\n",
    "success=[ctrl.sum(),treat.sum()]\n",
    "nobs=[no_ctrl,no_treat]"
   ]
  },
  {
   "cell_type": "code",
   "execution_count": 51,
   "id": "36cc4f80",
   "metadata": {},
   "outputs": [],
   "source": [
    "zstats, pval=proportions_ztest(success,nobs)\n"
   ]
  },
  {
   "cell_type": "code",
   "execution_count": 53,
   "id": "4ac82767",
   "metadata": {},
   "outputs": [
    {
     "name": "stdout",
     "output_type": "stream",
     "text": [
      "z statistic: 1.25\n",
      "p-value: 0.212\n",
      "ci 95% for control group: [0.106, 0.131]\n",
      "ci 95% for treatment group: [0.095, 0.120]\n"
     ]
    }
   ],
   "source": [
    "(lower_ctrl,lower_treat),(upper_ctrl,upper_treat)=proportion_confint(success,nobs=nobs,alpha=0.05)\n",
    "print(f'z statistic: {zstats:.2f}')\n",
    "\n",
    "print(f'p-value: {pval:.3f}')\n",
    "\n",
    "print(f'ci 95% for control group: [{lower_ctrl:.3f}, {upper_ctrl:.3f}]')\n",
    "\n",
    "print(f'ci 95% for treatment group: [{lower_treat:.3f}, {upper_treat:.3f}]')"
   ]
  },
  {
   "cell_type": "markdown",
   "id": "e0fafa22",
   "metadata": {},
   "source": [
    "* $p_value = 0.212$ is way above our $\\alpha$=0.05.\n",
    "* We are going to fail to reject the Null hypothesis $H_0$, which means **the new design did not perform significantly different than the old one**.\n",
    "* The ```Confidence Intervals``` for treatment group ```[9.5%, 12%]``` indicates:\n",
    ">>The baseline conversion value was 9.5%.\n",
    "\n",
    ">>Doen't inclue the target value of **19%** we were aiming for. \n",
    "\n",
    "* The conversion rate for the control and treatment group are almost the same, meaning the new design had no impact."
   ]
  }
 ],
 "metadata": {
  "kernelspec": {
   "display_name": "Python (learn-env)",
   "language": "python",
   "name": "learn-env"
  },
  "language_info": {
   "codemirror_mode": {
    "name": "ipython",
    "version": 3
   },
   "file_extension": ".py",
   "mimetype": "text/x-python",
   "name": "python",
   "nbconvert_exporter": "python",
   "pygments_lexer": "ipython3",
   "version": "3.9.13"
  }
 },
 "nbformat": 4,
 "nbformat_minor": 5
}
